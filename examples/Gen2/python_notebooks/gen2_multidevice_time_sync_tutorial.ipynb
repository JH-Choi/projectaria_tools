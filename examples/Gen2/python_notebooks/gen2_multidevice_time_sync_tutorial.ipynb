{
 "cells": [
  {
   "cell_type": "markdown",
   "metadata": {},
   "source": [
    "# Multi-device time synchronization tutorial (for Aria Gen2)"
   ]
  },
  {
   "cell_type": "code",
   "execution_count": null,
   "metadata": {},
   "outputs": [],
   "source": [
    "import matplotlib.pyplot as plt\n",
    "import numpy as np\n",
    "from PIL import Image\n",
    "from typing import Iterator, Any\n",
    "import os\n",
    "\n",
    "from projectaria_tools.core import data_provider\n",
    "from projectaria_tools.core.data_provider import VrsMetadata, MetadataTimeSyncMode\n",
    "from projectaria_tools.core.sensor_data import (\n",
    "    SensorData,\n",
    "    ImageData,\n",
    "    TimeDomain,\n",
    "    TimeQueryOptions,\n",
    "    TimeSyncMode,\n",
    ")\n",
    "from projectaria_tools.core.stream_id import StreamId"
   ]
  },
  {
   "cell_type": "markdown",
   "metadata": {},
   "source": [
    "## Download time-synced recordings\n",
    "Download the `gen2_timesync_server.vrs` and `gen2_timesync_client.vrs` files from Google Drive, and modify the following code to point to their download path"
   ]
  },
  {
   "cell_type": "code",
   "execution_count": null,
   "metadata": {},
   "outputs": [],
   "source": [
    "# Create server and client data provider from recordings\n",
    "data_folder = os.path.join(os.path.expanduser(\"~\"), \"Downloads\", \"06_04_PAT_Gen2_External_BugBash\")\n",
    "\n",
    "server_recording = os.path.join(data_folder, \"gen2_timesync_server.vrs\")\n",
    "server_data_provider = data_provider.create_vrs_data_provider(server_recording)\n",
    "\n",
    "client_recording = os.path.join(data_folder, \"gen2_timesync_client.vrs\")\n",
    "client_data_provider = data_provider.create_vrs_data_provider(client_recording)"
   ]
  },
  {
   "cell_type": "markdown",
   "metadata": {},
   "source": [
    "## Find a valid timestamp on server time domain\n",
    "Because server and client devices could start at different time, therefore we first locate a timestamp that both devices are guaranteed to have valid data. "
   ]
  },
  {
   "cell_type": "code",
   "execution_count": null,
   "metadata": {},
   "outputs": [],
   "source": [
    "# Fetch a given RGB frame from the server device\n",
    "rgb_stream_id = server_data_provider.get_stream_id_from_label(\"camera-rgb\")\n",
    "assert rgb_stream_id is not None, \"RGB stream does not exist in server vrs\"\n",
    "\n",
    "# Find the first client timestamp, and convert it to server time.\n",
    "first_client_timestamp = client_data_provider.get_first_time_ns(rgb_stream_id, TimeDomain.SUBGHZ)\n",
    "\n",
    "# Pick a server timetamp, which client device is guaranteed to have data\n",
    "first_server_timestamp = server_data_provider.get_first_time_ns(rgb_stream_id, TimeDomain.DEVICE_TIME)\n",
    "server_timestamp = max(first_server_timestamp, first_client_timestamp) + int(16.1e9)\n",
    "print(f\"Fetching from server timestamp {server_timestamp}\")"
   ]
  },
  {
   "cell_type": "markdown",
   "metadata": {},
   "source": [
    "### Fetch synced images from both devices"
   ]
  },
  {
   "cell_type": "code",
   "execution_count": null,
   "metadata": {},
   "outputs": [],
   "source": [
    "# Fetch RGB frame from server device. Note that we only need to fetch by DEVICE TIME on server, because it broadcasts DEVICE TIME\n",
    "server_image_data = server_data_provider.get_image_data_by_time_ns(rgb_stream_id, server_timestamp, TimeDomain.DEVICE_TIME)\n",
    "\n",
    "# Fetch the corresponding RGB frame from the client device by SUBGHZ time domain.\n",
    "client_image_data = client_data_provider.get_image_data_by_time_ns(rgb_stream_id, server_timestamp, TimeDomain.SUBGHZ)\n",
    "\n",
    "# Print the timestamp difference between query and result\n",
    "timestamp_ns_difference = client_image_data[1].capture_timestamp_ns - client_data_provider.convert_from_synctime_to_device_time_ns(server_timestamp, TimeSyncMode.SUBGHZ)\n",
    "print(f\"Timestamp difference between query and result: {timestamp_ns_difference/1e6} ms\")\n",
    "\n",
    "\n",
    "# Display the fetched RGB frames between server and client\n",
    "axes = []\n",
    "fig, axes = plt.subplots(1, 2, figsize=(30, 15))\n",
    "fig.suptitle('Retrieving time synced image data from server and client')\n",
    "\n",
    "axes[0].imshow(server_image_data[0].to_numpy_array(), cmap=\"gray\", vmin=0, vmax=255)\n",
    "axes[0].title.set_text(\"server image\")\n",
    "axes[0].grid(False)\n",
    "axes[0].tick_params(left=False, right=False, labelleft=False, labelbottom=False, bottom=False)\n",
    "\n",
    "axes[1].imshow(client_image_data[0].to_numpy_array(), cmap=\"gray\", vmin=0, vmax=255)\n",
    "axes[1].title.set_text(\"client image\")\n",
    "axes[1].grid(False)\n",
    "axes[1].tick_params(left=False, right=False, labelleft=False, labelbottom=False, bottom=False)\n",
    "\n",
    "plt.show()"
   ]
  },
  {
   "cell_type": "code",
   "execution_count": null,
   "metadata": {},
   "outputs": [],
   "source": []
  }
 ],
 "metadata": {
  "kernelspec": {
   "display_name": "Python 3 (ipykernel)",
   "language": "python",
   "name": "python3"
  },
  "language_info": {
   "codemirror_mode": {
    "name": "ipython",
    "version": 3
   },
   "file_extension": ".py",
   "mimetype": "text/x-python",
   "name": "python",
   "nbconvert_exporter": "python",
   "pygments_lexer": "ipython3",
   "version": "3.12.10"
  }
 },
 "nbformat": 4,
 "nbformat_minor": 4
}
